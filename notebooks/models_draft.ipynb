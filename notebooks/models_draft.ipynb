{
 "cells": [
  {
   "cell_type": "code",
   "execution_count": null,
   "id": "b0beb9ad",
   "metadata": {},
   "outputs": [],
   "source": [
    "# Ideas de modelos\n",
    "\n",
    "# Weighted Scoring (Puntuación Ponderada):\n",
    "# Modelo propio en el cual se calcule un puntaje del vino según diversas características y\n",
    "# el algoritmo busque maximizar tal puntaje considerando el input del usuario.\n",
    "\n",
    "# ¿De qué se compondría el puntaje?\n",
    "# 1) Rating\n",
    "# 2) ..."
   ]
  },
  {
   "cell_type": "code",
   "execution_count": null,
   "id": "ab9a0fde",
   "metadata": {},
   "outputs": [],
   "source": []
  }
 ],
 "metadata": {
  "kernelspec": {
   "display_name": ".venv",
   "language": "python",
   "name": "python3"
  },
  "language_info": {
   "codemirror_mode": {
    "name": "ipython",
    "version": 3
   },
   "file_extension": ".py",
   "mimetype": "text/x-python",
   "name": "python",
   "nbconvert_exporter": "python",
   "pygments_lexer": "ipython3",
   "version": "3.12.3"
  }
 },
 "nbformat": 4,
 "nbformat_minor": 5
}
