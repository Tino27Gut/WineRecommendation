{
 "cells": [
  {
   "cell_type": "markdown",
   "id": "4c25d551",
   "metadata": {},
   "source": [
    "# DESCRIPTIVE ANALYSIS (ANÁLISIS DESCRIPTIVO)\n",
    "\n",
    "El objetivo de esta sección es analizar de la distribución de las variables cómo se relacionan las mismas.\n",
    "\n",
    "<br>\n",
    "\n",
    "Se encarga de responder preguntas como:\n",
    "- ¿Cuál es el valor más frecuente?\n",
    "- ¿Cómo es la distribución de los datos (normal, tirada a la derecha/izquierda, etc)?\n",
    "- ¿Cómo se relacionan las variables?\n",
    "\n",
    "<br>\n",
    "\n",
    "---"
   ]
  },
  {
   "cell_type": "markdown",
   "id": "3349d3b2",
   "metadata": {},
   "source": [
    "## Configuración General\n",
    "\n",
    "1. Carga de librerías.\n",
    "2. Seteo de estilos del notebook.\n",
    "3. Ingesta del dataset."
   ]
  },
  {
   "cell_type": "code",
   "execution_count": null,
   "id": "fbcb226d",
   "metadata": {},
   "outputs": [],
   "source": [
    "import sys\n",
    "import os\n",
    "import statistics\n",
    "\n",
    "import pandas as pd\n",
    "import numpy as np\n",
    "import seaborn as sns\n",
    "from sklearn.preprocessing import MinMaxScaler\n",
    "from sklearn.preprocessing import StandardScaler\n",
    "from sklearn.cluster import KMeans\n",
    "from sklearn.decomposition import PCA\n",
    "import matplotlib.pyplot as plt\n",
    "\n",
    "\n",
    "\n",
    "sys.path.append(os.path.abspath(os.path.join('..', '..', 'src', 'utils')))\n",
    "import utils as ut"
   ]
  },
  {
   "cell_type": "code",
   "execution_count": null,
   "id": "6cab9723",
   "metadata": {},
   "outputs": [],
   "source": [
    "# Seteo de estilos\n",
    "plt.style.use(\"ggplot\")\n",
    "sns.set_palette(\"viridis\")\n",
    "plt.rcParams[\"figure.figsize\"] = (9,6)"
   ]
  },
  {
   "cell_type": "code",
   "execution_count": null,
   "id": "94f1a8cf",
   "metadata": {},
   "outputs": [],
   "source": [
    "wines = pd.read_csv(\"../../src/data/transformed/wines_clean.csv\")\n",
    "pd.set_option('display.max_columns', None)\n",
    "wines.head(3)"
   ]
  },
  {
   "cell_type": "markdown",
   "id": "a3654b17",
   "metadata": {},
   "source": [
    "<br>\n",
    "<br>\n",
    "<br>\n",
    "<br>\n",
    "<br>\n",
    "<br>\n",
    "\n",
    "---"
   ]
  },
  {
   "cell_type": "markdown",
   "id": "d0a96a82",
   "metadata": {},
   "source": [
    "## 01 | Análisis de Datos Numéricos\n",
    "\n",
    "Esta sección se enfoca en analizar la frecuencia y distribución de variables numéricas para comprender valores habituales y atípicos, densidad de valores y estadísticas descriptivas generales."
   ]
  },
  {
   "cell_type": "markdown",
   "id": "7c1458d6",
   "metadata": {},
   "source": [
    "### Rating\n",
    "- ¿Cuales son los ratings más comunes?\n",
    "- ¿El rating se relaciona con la cantidad de ratings?\n",
    "- ¿El rating es un buen parámetro para la recomendación de vinos?\n",
    "- ¿La cantidad de ratings se relaciona con un buen rating?\n",
    "<br>\n",
    "<br>\n",
    "> Rating: los valores más frecuentes están entre *3.9 y 4.1* aproximadamente, con una distribución más o menos normal.\n",
    "\n",
    "> Rating Quantity: la distribución está tirada hacia la izquierda, con algunos outliers muy alejados en el extremo derecho. En general, los valores más frecuentes son hasta *160-170* ratings aproximadamente.\n",
    "<br>\n",
    "---"
   ]
  },
  {
   "cell_type": "code",
   "execution_count": null,
   "id": "ff1932e7",
   "metadata": {},
   "outputs": [],
   "source": [
    "# Métricas generales del rating y rating quantity\n",
    "wines[[\"rating\", \"rating_qty\"]].describe().T"
   ]
  },
  {
   "cell_type": "code",
   "execution_count": null,
   "id": "ef37868f",
   "metadata": {},
   "outputs": [],
   "source": [
    "# Distribución del rating\n",
    "sns.histplot(wines['rating'], bins=20, kde=True)\n",
    "plt.title('Distribución de Ratings')\n",
    "\n",
    "plt.tight_layout()\n",
    "plt.show()"
   ]
  },
  {
   "cell_type": "code",
   "execution_count": null,
   "id": "b759d04e",
   "metadata": {},
   "outputs": [],
   "source": [
    "# Distribución del rating eliminando outliers\n",
    "no_outlier_rating = ut.manage_outlier_IQR(df=wines[\"rating\"], func=\"remove\")\n",
    "sns.histplot(no_outlier_rating, binwidth=0.1, kde=True)"
   ]
  },
  {
   "cell_type": "code",
   "execution_count": null,
   "id": "d6f9afdc",
   "metadata": {},
   "outputs": [],
   "source": [
    "# Distribución de la cantidad de ratings\n",
    "sns.histplot(wines, x=\"rating_qty\", binwidth=500, kde=True)"
   ]
  },
  {
   "cell_type": "code",
   "execution_count": null,
   "id": "bd45caa8",
   "metadata": {},
   "outputs": [],
   "source": [
    "# Distribución de la cantidad de ratings sin outliers\n",
    "no_outlier_rating_qty = ut.manage_outlier_IQR(df=wines[\"rating_qty\"], func=\"remove\")\n",
    "sns.histplot(no_outlier_rating_qty, kde=True)"
   ]
  },
  {
   "cell_type": "markdown",
   "id": "fa1fb862",
   "metadata": {},
   "source": [
    "### Price\n",
    "\n",
    "- ¿Qué sería un vino caro y uno barato?\n",
    "- ¿Nuestro dataset contiene muchos vinos caros o más baratos?\n",
    "- ¿Cual es la distribución del precio-calidad de nuestros vinos?\n",
    "<br>\n",
    "<br>\n",
    "---"
   ]
  },
  {
   "cell_type": "code",
   "execution_count": null,
   "id": "2bb3fd83",
   "metadata": {},
   "outputs": [],
   "source": [
    "# Estadísticas descriptivas del precio\n",
    "pd.DataFrame(wines[\"price\"]).describe().T"
   ]
  },
  {
   "cell_type": "code",
   "execution_count": null,
   "id": "4ce58391",
   "metadata": {},
   "outputs": [],
   "source": [
    "# Distribución de precios\n",
    "sns.histplot(wines['price'], bins=30, kde=True)\n",
    "plt.title('Distribución de Precios')\n",
    "plt.show()"
   ]
  },
  {
   "cell_type": "code",
   "execution_count": null,
   "id": "382302d8",
   "metadata": {},
   "outputs": [],
   "source": [
    "# Distribución del precio sin outliers\n",
    "no_outlier_price = ut.manage_outlier_IQR(df=wines[\"price\"], func=\"remove\")\n",
    "sns.histplot(no_outlier_price, kde=True)"
   ]
  },
  {
   "cell_type": "code",
   "execution_count": null,
   "id": "ded40d70",
   "metadata": {},
   "outputs": [],
   "source": [
    "# Categorización de vinos en base al precio, según el cuartil de precios sin outliers\n",
    "cheap_threshold = no_outlier_price.quantile(0.25)\n",
    "mid_threshold = no_outlier_price.quantile(0.5)\n",
    "expensive_threshold = no_outlier_price.quantile(0.75)\n",
    "\n",
    "def categorizar_precio(p, cheap, mid, exp):\n",
    "    if p <= cheap_threshold:\n",
    "        return \"Barato\"\n",
    "    elif ((p > cheap) & (p <= mid)):\n",
    "        return \"Medio\"\n",
    "    elif ((p > mid) & (p <= exp)):\n",
    "        return \"Medio-Caro\"\n",
    "    elif p > exp:\n",
    "        return \"Caro\"\n",
    "    else:\n",
    "        return \"Desconocido\"\n",
    "\n",
    "wines['Categoria_Precio'] = wines['price'].apply(\n",
    "    lambda p: categorizar_precio(p, cheap_threshold, mid_threshold, expensive_threshold)\n",
    ")\n",
    "\n",
    "categorias_precio = ['Barato', 'Medio', 'Medio-Caro', 'Caro']\n",
    "\n",
    "categories_map = {\n",
    "    \"Barato\": f\"0 - {round(cheap_threshold,2)}\",\n",
    "    \"Medio\": f\"{round(cheap_threshold,2)} - {round(mid_threshold,2)}\",\n",
    "    \"Medio-Caro\": f\"{round(mid_threshold,2)} - {round(expensive_threshold,2)}\",\n",
    "    \"Caro\": f\"{round(expensive_threshold,2)}+\"\n",
    "}\n",
    "\n",
    "ax = sns.countplot(\n",
    "    data=wines,\n",
    "    x='Categoria_Precio',\n",
    "    order=categorias_precio,\n",
    ")\n",
    "\n",
    "ax.set_ylim(0, 800)\n",
    "\n",
    "for p, categoria in zip(ax.patches, categorias_precio):\n",
    "    height = p.get_height()\n",
    "    price_range = categories_map[categoria]\n",
    "\n",
    "    ax.text(\n",
    "        p.get_x() + p.get_width() / 2,\n",
    "        height + 2, \n",
    "        f'# Vinos: {int(height)}\\n$ Precio: {price_range}',\n",
    "        ha='center',\n",
    "        va='bottom',\n",
    "        fontsize=10\n",
    "    )\n",
    "\n",
    "plt.title(\"Cantidad de vinos por categoría de precio\")\n",
    "plt.show()"
   ]
  },
  {
   "cell_type": "code",
   "execution_count": null,
   "id": "bf4d3790",
   "metadata": {},
   "outputs": [],
   "source": [
    "# Categorización de vinos según thresholds redondeados, cercanos a cuartiles de outliers (empírica)\n",
    "cheap_threshold = 18\n",
    "mid_threshold = 24\n",
    "expensive_threshold = 35\n",
    "\n",
    "wines['Categoria_Precio'] = wines['price'].apply(\n",
    "    lambda p: categorizar_precio(p, cheap_threshold, mid_threshold, expensive_threshold)\n",
    ")\n",
    "\n",
    "categorias_precio = ['Barato', 'Medio', 'Medio-Caro', 'Caro']\n",
    "\n",
    "categories_map = {\n",
    "    \"Barato\": f\"0 - {round(cheap_threshold,2)}\",\n",
    "    \"Medio\": f\"{round(cheap_threshold,2)} - {round(mid_threshold,2)}\",\n",
    "    \"Medio-Caro\": f\"{round(mid_threshold,2)} - {round(expensive_threshold,2)}\",\n",
    "    \"Caro\": f\"{round(expensive_threshold,2)}+\"\n",
    "}\n",
    "\n",
    "ax = sns.countplot(\n",
    "    data=wines,\n",
    "    x='Categoria_Precio',\n",
    "    order=categorias_precio,\n",
    ")\n",
    "\n",
    "ax.set_ylim(0, 900)\n",
    "\n",
    "for p, categoria in zip(ax.patches, categorias_precio):\n",
    "    height = p.get_height()\n",
    "    price_range = categories_map[categoria]\n",
    "\n",
    "    ax.text(\n",
    "        p.get_x() + p.get_width() / 2,\n",
    "        height + 2, \n",
    "        f'# Vinos: {int(height)}\\n$ Precio: {price_range}',\n",
    "        ha='center',\n",
    "        va='bottom',\n",
    "        fontsize=10\n",
    "    )\n",
    "\n",
    "plt.title(\"Cantidad de vinos por categoría de precio (empírica)\")\n",
    "plt.show()"
   ]
  },
  {
   "cell_type": "code",
   "execution_count": null,
   "id": "fcfe5609",
   "metadata": {},
   "outputs": [],
   "source": [
    "scaler = MinMaxScaler()\n",
    "\n",
    "wines[[\"rating_scaled\", \"price_scaled\"]] = scaler.fit_transform(wines[[\"rating\", \"price\"]])\n",
    "\n",
    "wines['price_quality_scaled'] = wines['rating_scaled'] / wines['price_scaled']\n",
    "wines[['rating', 'price', 'price_quality_scaled']].sort_values(by='price_quality_scaled', ascending=False).head(10)\n",
    "sns.histplot(wines['price_quality_scaled'], kde=True)\n",
    "plt.title(\"Distribución de la relación Calidad/Precio\")\n",
    "plt.show()\n"
   ]
  },
  {
   "cell_type": "code",
   "execution_count": null,
   "id": "b55572ba",
   "metadata": {},
   "outputs": [],
   "source": [
    "wines_filtrados = wines[wines['price'] > 0].copy()\n",
    "#wines_filtrados['price_quality_scaled'] = wines_filtrados['rating_scaled'] / wines_filtrados['price_scaled']\n",
    "top_vinos_cp = wines_filtrados.sort_values(by='price_quality_scaled', ascending=False).head(10)\n",
    "top_vinos_cp[['name', 'price', 'rating', 'rating_scaled', 'price_scaled', 'price_quality_scaled']]\n"
   ]
  },
  {
   "cell_type": "code",
   "execution_count": null,
   "id": "65d098c2",
   "metadata": {},
   "outputs": [],
   "source": [
    "wines_filtrados['log_price'] = np.log1p(wines_filtrados['price'])\n",
    "wines_filtrados['calidad_precio_log'] = wines_filtrados['rating'] / wines_filtrados['log_price']\n",
    "top_vinos_cp_log = wines_filtrados.sort_values(by='calidad_precio_log', ascending=False).head(20)\n",
    "top_vinos_cp_log[['name', 'price', 'rating', 'log_price', 'calidad_precio_log']]\n"
   ]
  },
  {
   "cell_type": "code",
   "execution_count": null,
   "id": "ce4accee",
   "metadata": {},
   "outputs": [],
   "source": [
    "sns.histplot(wines_filtrados['calidad_precio_log'], kde=True)\n",
    "plt.title(\"Distribución de la relación Calidad/Precio (log) \")\n",
    "plt.show()"
   ]
  },
  {
   "cell_type": "code",
   "execution_count": null,
   "id": "043142ec",
   "metadata": {},
   "outputs": [],
   "source": [
    "top10 = top_vinos_cp_log.head(10)\n",
    "\n",
    "plt.figure(figsize=(10,6))\n",
    "sns.barplot(data=top10, x=\"calidad_precio_log\", y=\"name\", palette=\"viridis\")\n",
    "plt.title(\"Top 10 vinos con mejor relación Calidad/Precio\")\n",
    "plt.xlabel(\"Calidad / Precio (rating / log(price))\")\n",
    "plt.ylabel(\"Nombre del vino\")\n",
    "plt.tight_layout()\n",
    "plt.show()\n"
   ]
  },
  {
   "cell_type": "markdown",
   "id": "4c25f59b",
   "metadata": {},
   "source": [
    "<br>\n",
    "<br>\n",
    "<br>\n",
    "<br>\n",
    "<br>\n",
    "<br>\n",
    "\n",
    "---"
   ]
  },
  {
   "cell_type": "markdown",
   "id": "dc8cd2b5",
   "metadata": {},
   "source": [
    "## 02 | Análisis de Variables Categóricas\n",
    "\n",
    "Esta sección se enfoca en analizar la frecuencia y distribución de variables categóricas para comprender valores habituales y atípicos, densidad de valores y estadísticas descriptivas generales."
   ]
  },
  {
   "cell_type": "markdown",
   "id": "4a96f5a9",
   "metadata": {},
   "source": [
    "### Notas de Sabor\n",
    "\n",
    "---"
   ]
  },
  {
   "cell_type": "code",
   "execution_count": null,
   "id": "a0000701",
   "metadata": {},
   "outputs": [],
   "source": [
    "# Corregir. Si le cambiamos los datos esto puede pasar a estar mal.\n",
    "\n",
    "notes_cols = [\n",
    "    'black fruit', 'citrus', 'dried fruit', 'earthy', 'floral', 'oaky',\n",
    "    'red fruit', 'spices', 'tree fruit', 'tropical', 'vegetal', 'yeasty'\n",
    "]\n",
    "note_means = wines[notes_cols].mean().sort_values(ascending=False)\n",
    "\n",
    "plt.figure(figsize=(10, 6))\n",
    "sns.barplot(x=note_means.values, y=note_means.index, palette=\"viridis\")\n",
    "plt.title(\"Notas de sabor más frecuentes en el dataset\")\n",
    "plt.xlabel(\"Promedio (%) por vino\")\n",
    "plt.ylabel(\"Nota de sabor\")\n",
    "plt.show()\n",
    "\n"
   ]
  },
  {
   "cell_type": "markdown",
   "id": "ef1a11f9",
   "metadata": {},
   "source": [
    "### Grapes\n",
    "\n",
    "---"
   ]
  },
  {
   "cell_type": "code",
   "execution_count": null,
   "id": "443edb0e",
   "metadata": {},
   "outputs": [],
   "source": [
    "grape_cols = [\n",
    "    'Albariño', 'Barbera', 'Bonarda', 'Béquignol Noir', 'Cabernet Franc', 'Cabernet Sauvignon',\n",
    "    'Cereza', 'Chardonnay', 'Chenin Blanc', 'Criolla Grande', 'Garnacha', 'Gewürztraminer',\n",
    "    'Grenache', 'Grüner Veltliner', 'Malbec', 'Malvasia', 'Marsanne', 'Mencia', 'Merlot',\n",
    "    'Moscatel', 'Mourvedre', 'Pais', 'Pedro Ximenez', 'Petit Verdot',\n",
    "    'Pinot Gris', 'Pinot Noir', 'Riesling', 'Roussanne', 'Sangiovese', 'Sauvignon Blanc',\n",
    "    'Shiraz/Syrah', 'Sémillon', 'Tannat', 'Tempranillo', 'Torrontés', 'Trousseau',\n",
    "    'Verdejo', 'Viognier'\n",
    "]\n",
    "grape_counts = wines[grape_cols].sum().sort_values(ascending=False)\n",
    "sns.barplot(x=grape_counts.values, y=grape_counts.index)\n",
    "plt.title(\"Cantidad de vinos por variedad de uva\")\n",
    "plt.xlabel(\"Cantidad de vinos\")\n",
    "plt.ylabel(\"Variedad de uva\")\n",
    "plt.tight_layout()\n",
    "plt.show()\n"
   ]
  },
  {
   "cell_type": "markdown",
   "id": "ef4069b5",
   "metadata": {},
   "source": [
    "### Maridajes\n",
    "\n",
    "---"
   ]
  },
  {
   "cell_type": "code",
   "execution_count": null,
   "id": "507a61d2",
   "metadata": {},
   "outputs": [],
   "source": [
    "pairing_cols = [\n",
    "    'any junk food will do', 'aperitif', 'appetizers and snacks', 'beef', 'blue cheese',\n",
    "    'cured meat', 'game (deer, venison)', \"goat's milk cheese\", 'lamb', 'lean fish',\n",
    "    'mature and hard cheese', 'mild and soft cheese', 'mushrooms', 'pasta', 'pork',\n",
    "    'poultry', 'rich fish (salmon, tuna etc)', 'shellfish', 'spicy food', 'veal', 'vegetarian'\n",
    "]\n",
    "\n",
    "pairing_freq = wines_filtrados[pairing_cols].sum().sort_values(ascending=False)\n",
    "\n",
    "top_pairing = pairing_freq.head(12)\n",
    "\n",
    "sns.barplot(x=top_pairing.values, y=top_pairing.index)\n",
    "plt.title(\"Maridajes más frecuentes en los vinos\")\n",
    "plt.xlabel(\"Cantidad de vinos\")\n",
    "plt.ylabel(\"Maridaje\")\n",
    "plt.tight_layout()\n",
    "plt.show()\n"
   ]
  },
  {
   "cell_type": "markdown",
   "id": "2461e5c4",
   "metadata": {},
   "source": [
    "### Year (Año)\n",
    "\n",
    "---"
   ]
  },
  {
   "cell_type": "code",
   "execution_count": null,
   "id": "569b1323",
   "metadata": {},
   "outputs": [],
   "source": [
    "wines_filtrados.select_dtypes(include=['object']).columns\n"
   ]
  },
  {
   "cell_type": "code",
   "execution_count": null,
   "id": "910776a0",
   "metadata": {},
   "outputs": [],
   "source": [
    "plt.figure(figsize=(10,5))\n",
    "sns.countplot(data=wines_filtrados, x='year', order=wines_filtrados['year'].value_counts().index[:15])\n",
    "plt.title(\"Cantidad de vinos por año \")\n",
    "plt.xticks(rotation=45)\n",
    "plt.show()\n"
   ]
  },
  {
   "cell_type": "markdown",
   "id": "68c29215",
   "metadata": {},
   "source": [
    "### Winery (Bodega)\n",
    "\n",
    "---"
   ]
  },
  {
   "cell_type": "code",
   "execution_count": null,
   "id": "8a39e262",
   "metadata": {},
   "outputs": [],
   "source": [
    "top_bodegas = wines_filtrados['winery'].value_counts().head(10)\n",
    "\n",
    "sns.barplot(x=top_bodegas.values, y=top_bodegas.index)\n",
    "plt.title(\"Bodegas con más vinos registrados\")\n",
    "plt.xlabel(\"Cantidad de vinos\")\n",
    "plt.ylabel(\"Bodega\")\n",
    "plt.show()\n"
   ]
  },
  {
   "cell_type": "markdown",
   "id": "2eceadcd",
   "metadata": {},
   "source": [
    "### Regions (Regiones)\n",
    "\n",
    "---"
   ]
  },
  {
   "cell_type": "code",
   "execution_count": null,
   "id": "573cb927",
   "metadata": {},
   "outputs": [],
   "source": [
    "region_cols = [\n",
    "    'Cafayate Valley', 'Calchaqui Valley', 'Campanha',\n",
    "    'Famatina', 'Gualtallary', 'La Consulta', 'La Rioja', 'Las Compuertas',\n",
    "    'Lujan de Cuyo', 'Lunlunta', 'Maipu', 'Mendoza', 'Paraje Altamira',\n",
    "    'Patagonia', 'Pedernal Valley', 'Perdriel', 'Rio Grande do Sul', 'Rio Negro',\n",
    "    'Salta', 'San Carlos', 'San Juan', 'San Rafael', 'Serra Gaúcha',\n",
    "    'Tulum Valley', 'Tunuyán', 'Tupungato', 'Uco Valley', 'Vale dos Vinhedos',\n",
    "    'Vista Flores'\n",
    "]\n",
    "\n",
    "regiones_melted = wines.melt(\n",
    "    value_vars=region_cols,\n",
    "    var_name='region',\n",
    "    value_name='is_region'\n",
    ")\n",
    "\n",
    "regiones_validas = regiones_melted[regiones_melted['is_region'] == 1]\n",
    "conteo_regiones = regiones_validas['region'].value_counts().head(10)\n",
    "\n",
    "sns.barplot(x=conteo_regiones.values, y=conteo_regiones.index)\n",
    "plt.title(\"Regiones más frecuentes productoras de vinos\")\n",
    "plt.xlabel(\"Cantidad de vinos\")\n",
    "plt.ylabel(\"Región\")\n",
    "plt.show()\n",
    "\n"
   ]
  },
  {
   "cell_type": "markdown",
   "id": "5349e714",
   "metadata": {},
   "source": [
    "### Wine Style (Estilo de Vino)\n",
    "\n",
    "---"
   ]
  },
  {
   "cell_type": "code",
   "execution_count": null,
   "id": "90f515c4",
   "metadata": {},
   "outputs": [],
   "source": [
    "style_counts = wines['style'].value_counts().head(10)\n",
    "\n",
    "sns.set_style(\"whitegrid\")\n",
    "sns.set_palette(\"coolwarm\")\n",
    "\n",
    "plt.figure(figsize=(10, 6))\n",
    "sns.barplot(x=style_counts.values, y=style_counts.index)\n",
    "plt.title(\"Estilos de vino más frecuentes\")\n",
    "plt.xlabel(\"Cantidad de vinos\")\n",
    "plt.ylabel(\"Estilo\")\n",
    "plt.show()\n"
   ]
  },
  {
   "cell_type": "markdown",
   "id": "fdc28210",
   "metadata": {},
   "source": [
    "<br>\n",
    "<br>\n",
    "<br>\n",
    "<br>\n",
    "<br>\n",
    "\n",
    "---"
   ]
  },
  {
   "cell_type": "markdown",
   "id": "64f4eaf6",
   "metadata": {},
   "source": [
    "## 03 | Cruce de Variables\n",
    "\n",
    "Esta sección se enfoca en el cruce de dos o tres variables, tanto categóricas como numéricas, para ver frecuencias combinadas y las características de ciertas variables más frecuentes."
   ]
  },
  {
   "cell_type": "markdown",
   "id": "6661d811",
   "metadata": {},
   "source": [
    "### Rating + Rating Quantity\n",
    "\n",
    "---"
   ]
  },
  {
   "cell_type": "code",
   "execution_count": null,
   "id": "f4f7cad8",
   "metadata": {},
   "outputs": [],
   "source": [
    "sns.jointplot(data=wines, x=\"rating\", y=\"rating_qty\")"
   ]
  },
  {
   "cell_type": "code",
   "execution_count": null,
   "id": "2679901e",
   "metadata": {},
   "outputs": [],
   "source": [
    "g = sns.JointGrid(data=wines, x=\"rating\", y=\"rating_qty\")\n",
    "g.plot_joint(sns.histplot)\n",
    "g.plot_marginals(sns.boxplot)"
   ]
  },
  {
   "cell_type": "code",
   "execution_count": null,
   "id": "956d798c",
   "metadata": {},
   "outputs": [],
   "source": [
    "\n",
    "sns.boxplot(data=wines, x='Categoria_Precio', y='rating', order=categorias_precio)\n",
    "plt.title(\"Rating según categoría de precio\")\n",
    "plt.show()\n",
    "\n",
    "wines.groupby('Categoria_Precio')['rating'].mean()\n"
   ]
  },
  {
   "cell_type": "markdown",
   "id": "c1c924c0",
   "metadata": {},
   "source": [
    "### Regiones + Rating\n",
    "\n",
    "---"
   ]
  },
  {
   "cell_type": "code",
   "execution_count": null,
   "id": "a7175e19",
   "metadata": {},
   "outputs": [],
   "source": [
    "wines_filtrados_reset = wines_filtrados.reset_index().copy()\n",
    "\n",
    "regiones_melted = wines_filtrados_reset.melt(\n",
    "    id_vars=['index', 'rating'], \n",
    "    value_vars=region_cols,\n",
    "    var_name='region',\n",
    "    value_name='is_region'\n",
    ")\n",
    "\n",
    "regiones_validas = regiones_melted[regiones_melted['is_region'] == 1]\n",
    "region_rating = regiones_validas.groupby('region')['rating'].mean().sort_values(ascending=False).head(10)\n",
    "\n",
    "region_rating.plot(kind='barh')\n",
    "plt.title(\"Regiones con mejor promedio de rating\")\n",
    "plt.xlabel(\"Rating promedio\")\n",
    "plt.gca().invert_yaxis()\n",
    "plt.show()\n",
    "\n",
    "\n"
   ]
  },
  {
   "cell_type": "code",
   "execution_count": null,
   "id": "15ed5014",
   "metadata": {},
   "outputs": [],
   "source": [
    "region_rating = regiones_validas.groupby('region')['rating'].mean()\n",
    "\n",
    "region_counts = regiones_validas['region'].value_counts()\n",
    "\n",
    "region_stats = pd.DataFrame({\n",
    "    'rating_promedio': region_rating,\n",
    "    'cantidad_vinos': region_counts\n",
    "}).dropna().sort_values(by='rating_promedio', ascending=False).head(10)\n",
    "\n",
    "ax = region_stats['rating_promedio'].plot(kind='barh',)\n",
    "plt.title(\"Regiones con mejor promedio de rating y cantidad de vinos\")\n",
    "plt.xlabel(\"Rating promedio\")\n",
    "plt.gca().invert_yaxis()\n",
    "\n",
    "for i, (rating, cantidad) in enumerate(zip(region_stats['rating_promedio'], region_stats['cantidad_vinos'])):\n",
    "    plt.text(rating + 0.02, i, f\"{int(cantidad)} vinos\", va='center')\n",
    "\n",
    "plt.tight_layout()\n",
    "plt.show()\n"
   ]
  },
  {
   "cell_type": "markdown",
   "id": "bf510cd8",
   "metadata": {},
   "source": [
    "### Winery + Rating\n",
    "\n",
    "---"
   ]
  },
  {
   "cell_type": "code",
   "execution_count": null,
   "id": "72d92a3f",
   "metadata": {},
   "outputs": [],
   "source": [
    "bodega_rating = wines_filtrados.groupby('winery')['rating'].mean().sort_values(ascending=False).head(10)\n",
    "bodega_rating.plot(kind='barh')\n",
    "plt.title(\"Bodegas con mejor promedio de rating\")\n",
    "plt.xlabel(\"Rating promedio\")\n",
    "plt.gca().invert_yaxis()\n",
    "plt.show()\n"
   ]
  },
  {
   "cell_type": "code",
   "execution_count": null,
   "id": "f222e33e",
   "metadata": {},
   "outputs": [],
   "source": [
    "plt.style.use(\"ggplot\")\n",
    "sns.set_palette(\"viridis\")\n",
    "plt.rcParams[\"figure.figsize\"] = (10,6)\n",
    "\n",
    "bodega_rating = wines_filtrados.groupby('winery')['rating'].mean()\n",
    "bodega_top10 = bodega_rating.sort_values(ascending=False).head(10)\n",
    "\n",
    "bodega_counts = wines_filtrados['winery'].value_counts()\n",
    "bodega_counts_top10 = bodega_counts[bodega_top10.index]\n",
    "\n",
    "\n",
    "ax = bodega_top10.plot(kind='barh')\n",
    "plt.title(\"Bodegas con mejor promedio de rating\")\n",
    "plt.xlabel(\"Rating promedio\")\n",
    "plt.gca().invert_yaxis()\n",
    "\n",
    "\n",
    "for i, (rating, cantidad) in enumerate(zip(bodega_top10, bodega_counts_top10)):\n",
    "    plt.text(rating + 0.02, i, f\"{int(cantidad)} vinos\", va='center')\n",
    "\n",
    "plt.tight_layout()\n",
    "plt.show()\n"
   ]
  },
  {
   "cell_type": "code",
   "execution_count": null,
   "id": "7ec60b39",
   "metadata": {},
   "outputs": [],
   "source": [
    "top_vinos = wines_filtrados.sort_values(by='rating', ascending=False).head(50)\n",
    "top_vinos[['name', 'rating', 'price', 'winery']].head(10)\n"
   ]
  },
  {
   "cell_type": "markdown",
   "id": "80f5ea7a",
   "metadata": {},
   "source": [
    "### Style + Rating\n",
    "\n",
    "---"
   ]
  },
  {
   "cell_type": "code",
   "execution_count": null,
   "id": "533cb104",
   "metadata": {},
   "outputs": [],
   "source": [
    "wines_filtrados_style = wines.dropna(subset=['style', 'rating'])\n",
    "style_rating = wines_filtrados_style.groupby('style')['rating'].mean().sort_values(ascending=False).head(10)\n",
    "\n",
    "\n",
    "plt.figure(figsize=(10, 6))\n",
    "style_rating.plot(kind='barh')\n",
    "plt.title(\"Estilos de vino con mejor rating promedio\")\n",
    "plt.xlabel(\"Rating promedio\")\n",
    "plt.gca().invert_yaxis()\n",
    "plt.show()\n"
   ]
  }
 ],
 "metadata": {
  "kernelspec": {
   "display_name": ".venv",
   "language": "python",
   "name": "python3"
  },
  "language_info": {
   "codemirror_mode": {
    "name": "ipython",
    "version": 3
   },
   "file_extension": ".py",
   "mimetype": "text/x-python",
   "name": "python",
   "nbconvert_exporter": "python",
   "pygments_lexer": "ipython3",
   "version": "3.12.3"
  }
 },
 "nbformat": 4,
 "nbformat_minor": 5
}
