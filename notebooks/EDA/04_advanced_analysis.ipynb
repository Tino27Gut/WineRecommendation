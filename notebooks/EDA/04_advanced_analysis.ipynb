{
 "cells": [
  {
   "cell_type": "markdown",
   "id": "5cd26dad",
   "metadata": {},
   "source": [
    "# ADVANCED ANALISYS (ANÁLISIS AVANZADOS)\n",
    "\n",
    "El objetivo de esta sección es realizar análisis de alto nivel, aplicando técnicas de EDA avanzadas, cómo PCA o Clusterización.\n",
    "\n",
    "<br>\n",
    "\n",
    "Se encarga de responder preguntas como:\n",
    "- ¿Existen grupos de vinos definidos por ciertas variables?\n",
    "- ¿Existe una buena combinación de variables que sea capaza de describir a los mejores vinos?\n",
    "- ¿Qué variables son las más importantes para describir a un vino?\n",
    "\n",
    "<br>\n",
    "\n",
    "---"
   ]
  },
  {
   "cell_type": "markdown",
   "id": "3349d3b2",
   "metadata": {},
   "source": [
    "## Configuración General\n",
    "\n",
    "1. Carga de librerías.\n",
    "2. Seteo de estilos del notebook.\n",
    "3. Ingesta del dataset."
   ]
  },
  {
   "cell_type": "code",
   "execution_count": 1,
   "id": "fbcb226d",
   "metadata": {},
   "outputs": [],
   "source": [
    "import sys\n",
    "import os\n",
    "import statistics\n",
    "\n",
    "import pandas as pd\n",
    "import numpy as np\n",
    "import seaborn as sns\n",
    "from sklearn.preprocessing import MinMaxScaler\n",
    "from sklearn.preprocessing import StandardScaler\n",
    "from sklearn.cluster import KMeans\n",
    "from sklearn.decomposition import PCA\n",
    "import matplotlib.pyplot as plt\n",
    "\n",
    "\n",
    "\n",
    "sys.path.append(os.path.abspath(os.path.join('..', '..', 'src', 'utils')))\n",
    "import utils as ut"
   ]
  },
  {
   "cell_type": "code",
   "execution_count": 2,
   "id": "6cab9723",
   "metadata": {},
   "outputs": [],
   "source": [
    "# Seteo de estilos\n",
    "plt.style.use(\"ggplot\")\n",
    "sns.set_palette(\"viridis\")\n",
    "plt.rcParams[\"figure.figsize\"] = (9,6)"
   ]
  },
  {
   "cell_type": "code",
   "execution_count": 3,
   "id": "94f1a8cf",
   "metadata": {},
   "outputs": [
    {
     "data": {
      "text/html": [
       "<div>\n",
       "<style scoped>\n",
       "    .dataframe tbody tr th:only-of-type {\n",
       "        vertical-align: middle;\n",
       "    }\n",
       "\n",
       "    .dataframe tbody tr th {\n",
       "        vertical-align: top;\n",
       "    }\n",
       "\n",
       "    .dataframe thead th {\n",
       "        text-align: right;\n",
       "    }\n",
       "</style>\n",
       "<table border=\"1\" class=\"dataframe\">\n",
       "  <thead>\n",
       "    <tr style=\"text-align: right;\">\n",
       "      <th></th>\n",
       "      <th>wine_link</th>\n",
       "      <th>name</th>\n",
       "      <th>year</th>\n",
       "      <th>winery</th>\n",
       "      <th>rating</th>\n",
       "      <th>rating_qty</th>\n",
       "      <th>price</th>\n",
       "      <th>body</th>\n",
       "      <th>tannis</th>\n",
       "      <th>sweetness</th>\n",
       "      <th>acidity</th>\n",
       "      <th>style</th>\n",
       "      <th>alcohol</th>\n",
       "      <th>image</th>\n",
       "      <th>ageing</th>\n",
       "      <th>black fruit</th>\n",
       "      <th>citrus</th>\n",
       "      <th>dried fruit</th>\n",
       "      <th>earthy</th>\n",
       "      <th>floral</th>\n",
       "      <th>oaky</th>\n",
       "      <th>red fruit</th>\n",
       "      <th>spices</th>\n",
       "      <th>tree fruit</th>\n",
       "      <th>tropical</th>\n",
       "      <th>vegetal</th>\n",
       "      <th>yeasty</th>\n",
       "      <th>any junk food will do</th>\n",
       "      <th>aperitif</th>\n",
       "      <th>appetizers and snacks</th>\n",
       "      <th>beef</th>\n",
       "      <th>blue cheese</th>\n",
       "      <th>cured meat</th>\n",
       "      <th>game (deer, venison)</th>\n",
       "      <th>goat's milk cheese</th>\n",
       "      <th>lamb</th>\n",
       "      <th>lean fish</th>\n",
       "      <th>mature and hard cheese</th>\n",
       "      <th>mild and soft cheese</th>\n",
       "      <th>mushrooms</th>\n",
       "      <th>pasta</th>\n",
       "      <th>pork</th>\n",
       "      <th>poultry</th>\n",
       "      <th>rich fish (salmon, tuna etc)</th>\n",
       "      <th>shellfish</th>\n",
       "      <th>spicy food</th>\n",
       "      <th>veal</th>\n",
       "      <th>vegetarian</th>\n",
       "      <th>Albariño</th>\n",
       "      <th>Barbera</th>\n",
       "      <th>Bonarda</th>\n",
       "      <th>Béquignol Noir</th>\n",
       "      <th>Cabernet Franc</th>\n",
       "      <th>Cabernet Sauvignon</th>\n",
       "      <th>Cereza</th>\n",
       "      <th>Chardonnay</th>\n",
       "      <th>Chenin Blanc</th>\n",
       "      <th>Criolla Grande</th>\n",
       "      <th>Garnacha</th>\n",
       "      <th>Gewürztraminer</th>\n",
       "      <th>Grenache</th>\n",
       "      <th>Grüner Veltliner</th>\n",
       "      <th>Malbec</th>\n",
       "      <th>Malvasia</th>\n",
       "      <th>Marsanne</th>\n",
       "      <th>Mencia</th>\n",
       "      <th>Merlot</th>\n",
       "      <th>Moscatel</th>\n",
       "      <th>Mourvedre</th>\n",
       "      <th>Pais</th>\n",
       "      <th>Pedro Ximenez</th>\n",
       "      <th>Petit Verdot</th>\n",
       "      <th>Pinot Gris</th>\n",
       "      <th>Pinot Noir</th>\n",
       "      <th>Riesling</th>\n",
       "      <th>Roussanne</th>\n",
       "      <th>Sangiovese</th>\n",
       "      <th>Sauvignon Blanc</th>\n",
       "      <th>Shiraz/Syrah</th>\n",
       "      <th>Sémillon</th>\n",
       "      <th>Tannat</th>\n",
       "      <th>Tempranillo</th>\n",
       "      <th>Torrontés</th>\n",
       "      <th>Trousseau</th>\n",
       "      <th>Verdejo</th>\n",
       "      <th>Viognier</th>\n",
       "      <th>Agrelo</th>\n",
       "      <th>Argentina</th>\n",
       "      <th>Brazil</th>\n",
       "      <th>Cafayate Valley</th>\n",
       "      <th>Calchaqui Valley</th>\n",
       "      <th>Campanha</th>\n",
       "      <th>Famatina</th>\n",
       "      <th>Gualtallary</th>\n",
       "      <th>La Consulta</th>\n",
       "      <th>La Rioja</th>\n",
       "      <th>Las Compuertas</th>\n",
       "      <th>Lujan de Cuyo</th>\n",
       "      <th>Lunlunta</th>\n",
       "      <th>Maipu</th>\n",
       "      <th>Mendoza</th>\n",
       "      <th>Paraje Altamira</th>\n",
       "      <th>Patagonia</th>\n",
       "      <th>Pedernal Valley</th>\n",
       "      <th>Perdriel</th>\n",
       "      <th>Rio Grande do Sul</th>\n",
       "      <th>Rio Negro</th>\n",
       "      <th>Salta</th>\n",
       "      <th>San Carlos</th>\n",
       "      <th>San Juan</th>\n",
       "      <th>San Rafael</th>\n",
       "      <th>Serra Gaúcha</th>\n",
       "      <th>Tulum Valley</th>\n",
       "      <th>Tunuyán</th>\n",
       "      <th>Tupungato</th>\n",
       "      <th>Uco Valley</th>\n",
       "      <th>Vale dos Vinhedos</th>\n",
       "      <th>Vista Flores</th>\n",
       "    </tr>\n",
       "  </thead>\n",
       "  <tbody>\n",
       "    <tr>\n",
       "      <th>0</th>\n",
       "      <td>https://www.vivino.com/US/en/luigi-bosca-parai...</td>\n",
       "      <td>Paraiso</td>\n",
       "      <td>2020.0</td>\n",
       "      <td>Luigi Bosca</td>\n",
       "      <td>4.8</td>\n",
       "      <td>582.0</td>\n",
       "      <td>188.33</td>\n",
       "      <td>0.7343</td>\n",
       "      <td>0.5090</td>\n",
       "      <td>0.1361</td>\n",
       "      <td>0.4474</td>\n",
       "      <td>Argentinian Cabernet Sauvignon - Malbec</td>\n",
       "      <td>0.1410</td>\n",
       "      <td>https://images.vivino.com/thumbs/_Bf6JTwYRpSX6...</td>\n",
       "      <td>0.0000</td>\n",
       "      <td>0.3500</td>\n",
       "      <td>0.000</td>\n",
       "      <td>0.000</td>\n",
       "      <td>0.1250</td>\n",
       "      <td>0.0500</td>\n",
       "      <td>0.3250</td>\n",
       "      <td>0.0500</td>\n",
       "      <td>0.1000</td>\n",
       "      <td>0.0</td>\n",
       "      <td>0.0</td>\n",
       "      <td>0.000</td>\n",
       "      <td>0.000</td>\n",
       "      <td>0.0</td>\n",
       "      <td>0.0</td>\n",
       "      <td>0.0</td>\n",
       "      <td>1.0</td>\n",
       "      <td>0.0</td>\n",
       "      <td>0.0</td>\n",
       "      <td>1.0</td>\n",
       "      <td>0.0</td>\n",
       "      <td>1.0</td>\n",
       "      <td>0.0</td>\n",
       "      <td>0.0</td>\n",
       "      <td>0.0</td>\n",
       "      <td>0.0</td>\n",
       "      <td>0.0</td>\n",
       "      <td>0.0</td>\n",
       "      <td>1.0</td>\n",
       "      <td>0.0</td>\n",
       "      <td>0.0</td>\n",
       "      <td>0.0</td>\n",
       "      <td>0.0</td>\n",
       "      <td>0.0</td>\n",
       "      <td>0.0</td>\n",
       "      <td>0.0</td>\n",
       "      <td>0.0</td>\n",
       "      <td>0.0</td>\n",
       "      <td>0.0</td>\n",
       "      <td>1.0</td>\n",
       "      <td>0.0</td>\n",
       "      <td>0.0</td>\n",
       "      <td>0.0</td>\n",
       "      <td>0.0</td>\n",
       "      <td>0.0</td>\n",
       "      <td>0.0</td>\n",
       "      <td>0.0</td>\n",
       "      <td>0.0</td>\n",
       "      <td>1.0</td>\n",
       "      <td>0.0</td>\n",
       "      <td>0.0</td>\n",
       "      <td>0.0</td>\n",
       "      <td>0.0</td>\n",
       "      <td>0.0</td>\n",
       "      <td>0.0</td>\n",
       "      <td>0.0</td>\n",
       "      <td>0.0</td>\n",
       "      <td>0.0</td>\n",
       "      <td>0.0</td>\n",
       "      <td>0.0</td>\n",
       "      <td>0.0</td>\n",
       "      <td>0.0</td>\n",
       "      <td>0.0</td>\n",
       "      <td>0.0</td>\n",
       "      <td>0.0</td>\n",
       "      <td>0.0</td>\n",
       "      <td>0.0</td>\n",
       "      <td>0.0</td>\n",
       "      <td>0.0</td>\n",
       "      <td>0.0</td>\n",
       "      <td>0.0</td>\n",
       "      <td>0.0</td>\n",
       "      <td>0</td>\n",
       "      <td>1</td>\n",
       "      <td>0</td>\n",
       "      <td>0</td>\n",
       "      <td>0</td>\n",
       "      <td>0</td>\n",
       "      <td>0</td>\n",
       "      <td>0</td>\n",
       "      <td>0</td>\n",
       "      <td>0</td>\n",
       "      <td>0</td>\n",
       "      <td>0</td>\n",
       "      <td>0</td>\n",
       "      <td>0</td>\n",
       "      <td>1</td>\n",
       "      <td>0</td>\n",
       "      <td>0</td>\n",
       "      <td>0</td>\n",
       "      <td>0</td>\n",
       "      <td>0</td>\n",
       "      <td>0</td>\n",
       "      <td>0</td>\n",
       "      <td>0</td>\n",
       "      <td>0</td>\n",
       "      <td>0</td>\n",
       "      <td>0</td>\n",
       "      <td>0</td>\n",
       "      <td>0</td>\n",
       "      <td>0</td>\n",
       "      <td>0</td>\n",
       "      <td>0</td>\n",
       "      <td>0</td>\n",
       "    </tr>\n",
       "    <tr>\n",
       "      <th>1</th>\n",
       "      <td>https://www.vivino.com/US/en/catena-zapata-est...</td>\n",
       "      <td>Estiba Reservada</td>\n",
       "      <td>2015.0</td>\n",
       "      <td>Catena Zapata</td>\n",
       "      <td>4.7</td>\n",
       "      <td>297.0</td>\n",
       "      <td>675.00</td>\n",
       "      <td>0.7417</td>\n",
       "      <td>0.5583</td>\n",
       "      <td>0.1434</td>\n",
       "      <td>0.5445</td>\n",
       "      <td>Argentinian Bordeaux Blend</td>\n",
       "      <td>0.1400</td>\n",
       "      <td>https://images.vivino.com/thumbs/Yt464jw0QS-ug...</td>\n",
       "      <td>0.0241</td>\n",
       "      <td>0.2008</td>\n",
       "      <td>0.008</td>\n",
       "      <td>0.012</td>\n",
       "      <td>0.0964</td>\n",
       "      <td>0.0241</td>\n",
       "      <td>0.4378</td>\n",
       "      <td>0.0843</td>\n",
       "      <td>0.1004</td>\n",
       "      <td>0.0</td>\n",
       "      <td>0.0</td>\n",
       "      <td>0.004</td>\n",
       "      <td>0.008</td>\n",
       "      <td>0.0</td>\n",
       "      <td>0.0</td>\n",
       "      <td>0.0</td>\n",
       "      <td>1.0</td>\n",
       "      <td>0.0</td>\n",
       "      <td>0.0</td>\n",
       "      <td>0.0</td>\n",
       "      <td>0.0</td>\n",
       "      <td>1.0</td>\n",
       "      <td>0.0</td>\n",
       "      <td>0.0</td>\n",
       "      <td>0.0</td>\n",
       "      <td>0.0</td>\n",
       "      <td>1.0</td>\n",
       "      <td>0.0</td>\n",
       "      <td>1.0</td>\n",
       "      <td>0.0</td>\n",
       "      <td>0.0</td>\n",
       "      <td>0.0</td>\n",
       "      <td>0.0</td>\n",
       "      <td>0.0</td>\n",
       "      <td>0.0</td>\n",
       "      <td>0.0</td>\n",
       "      <td>0.0</td>\n",
       "      <td>0.0</td>\n",
       "      <td>0.0</td>\n",
       "      <td>1.0</td>\n",
       "      <td>0.0</td>\n",
       "      <td>0.0</td>\n",
       "      <td>0.0</td>\n",
       "      <td>0.0</td>\n",
       "      <td>0.0</td>\n",
       "      <td>0.0</td>\n",
       "      <td>0.0</td>\n",
       "      <td>0.0</td>\n",
       "      <td>1.0</td>\n",
       "      <td>0.0</td>\n",
       "      <td>0.0</td>\n",
       "      <td>0.0</td>\n",
       "      <td>1.0</td>\n",
       "      <td>0.0</td>\n",
       "      <td>0.0</td>\n",
       "      <td>0.0</td>\n",
       "      <td>0.0</td>\n",
       "      <td>0.0</td>\n",
       "      <td>0.0</td>\n",
       "      <td>0.0</td>\n",
       "      <td>0.0</td>\n",
       "      <td>0.0</td>\n",
       "      <td>0.0</td>\n",
       "      <td>0.0</td>\n",
       "      <td>0.0</td>\n",
       "      <td>0.0</td>\n",
       "      <td>0.0</td>\n",
       "      <td>0.0</td>\n",
       "      <td>0.0</td>\n",
       "      <td>0.0</td>\n",
       "      <td>0.0</td>\n",
       "      <td>0.0</td>\n",
       "      <td>1</td>\n",
       "      <td>1</td>\n",
       "      <td>0</td>\n",
       "      <td>0</td>\n",
       "      <td>0</td>\n",
       "      <td>0</td>\n",
       "      <td>0</td>\n",
       "      <td>0</td>\n",
       "      <td>0</td>\n",
       "      <td>0</td>\n",
       "      <td>0</td>\n",
       "      <td>0</td>\n",
       "      <td>0</td>\n",
       "      <td>0</td>\n",
       "      <td>1</td>\n",
       "      <td>0</td>\n",
       "      <td>0</td>\n",
       "      <td>0</td>\n",
       "      <td>0</td>\n",
       "      <td>0</td>\n",
       "      <td>0</td>\n",
       "      <td>0</td>\n",
       "      <td>0</td>\n",
       "      <td>0</td>\n",
       "      <td>0</td>\n",
       "      <td>0</td>\n",
       "      <td>0</td>\n",
       "      <td>0</td>\n",
       "      <td>0</td>\n",
       "      <td>0</td>\n",
       "      <td>0</td>\n",
       "      <td>0</td>\n",
       "    </tr>\n",
       "    <tr>\n",
       "      <th>2</th>\n",
       "      <td>https://www.vivino.com/US/en/catena-zapata-est...</td>\n",
       "      <td>Estiba Reservada</td>\n",
       "      <td>2017.0</td>\n",
       "      <td>Catena Zapata</td>\n",
       "      <td>4.7</td>\n",
       "      <td>219.0</td>\n",
       "      <td>580.00</td>\n",
       "      <td>0.7417</td>\n",
       "      <td>0.5583</td>\n",
       "      <td>0.1434</td>\n",
       "      <td>0.5445</td>\n",
       "      <td>Argentinian Bordeaux Blend</td>\n",
       "      <td>0.1416</td>\n",
       "      <td>https://images.vivino.com/thumbs/Yt464jw0QS-ug...</td>\n",
       "      <td>0.0241</td>\n",
       "      <td>0.2008</td>\n",
       "      <td>0.008</td>\n",
       "      <td>0.012</td>\n",
       "      <td>0.0964</td>\n",
       "      <td>0.0241</td>\n",
       "      <td>0.4378</td>\n",
       "      <td>0.0843</td>\n",
       "      <td>0.1004</td>\n",
       "      <td>0.0</td>\n",
       "      <td>0.0</td>\n",
       "      <td>0.004</td>\n",
       "      <td>0.008</td>\n",
       "      <td>0.0</td>\n",
       "      <td>0.0</td>\n",
       "      <td>0.0</td>\n",
       "      <td>1.0</td>\n",
       "      <td>0.0</td>\n",
       "      <td>0.0</td>\n",
       "      <td>0.0</td>\n",
       "      <td>0.0</td>\n",
       "      <td>1.0</td>\n",
       "      <td>0.0</td>\n",
       "      <td>0.0</td>\n",
       "      <td>0.0</td>\n",
       "      <td>0.0</td>\n",
       "      <td>1.0</td>\n",
       "      <td>0.0</td>\n",
       "      <td>1.0</td>\n",
       "      <td>0.0</td>\n",
       "      <td>0.0</td>\n",
       "      <td>0.0</td>\n",
       "      <td>0.0</td>\n",
       "      <td>0.0</td>\n",
       "      <td>0.0</td>\n",
       "      <td>0.0</td>\n",
       "      <td>0.0</td>\n",
       "      <td>0.0</td>\n",
       "      <td>0.0</td>\n",
       "      <td>1.0</td>\n",
       "      <td>0.0</td>\n",
       "      <td>0.0</td>\n",
       "      <td>0.0</td>\n",
       "      <td>0.0</td>\n",
       "      <td>0.0</td>\n",
       "      <td>0.0</td>\n",
       "      <td>0.0</td>\n",
       "      <td>0.0</td>\n",
       "      <td>1.0</td>\n",
       "      <td>0.0</td>\n",
       "      <td>0.0</td>\n",
       "      <td>0.0</td>\n",
       "      <td>1.0</td>\n",
       "      <td>0.0</td>\n",
       "      <td>0.0</td>\n",
       "      <td>0.0</td>\n",
       "      <td>0.0</td>\n",
       "      <td>0.0</td>\n",
       "      <td>0.0</td>\n",
       "      <td>0.0</td>\n",
       "      <td>0.0</td>\n",
       "      <td>0.0</td>\n",
       "      <td>0.0</td>\n",
       "      <td>0.0</td>\n",
       "      <td>0.0</td>\n",
       "      <td>0.0</td>\n",
       "      <td>0.0</td>\n",
       "      <td>0.0</td>\n",
       "      <td>0.0</td>\n",
       "      <td>0.0</td>\n",
       "      <td>0.0</td>\n",
       "      <td>0.0</td>\n",
       "      <td>1</td>\n",
       "      <td>1</td>\n",
       "      <td>0</td>\n",
       "      <td>0</td>\n",
       "      <td>0</td>\n",
       "      <td>0</td>\n",
       "      <td>0</td>\n",
       "      <td>0</td>\n",
       "      <td>0</td>\n",
       "      <td>0</td>\n",
       "      <td>0</td>\n",
       "      <td>0</td>\n",
       "      <td>0</td>\n",
       "      <td>0</td>\n",
       "      <td>1</td>\n",
       "      <td>0</td>\n",
       "      <td>0</td>\n",
       "      <td>0</td>\n",
       "      <td>0</td>\n",
       "      <td>0</td>\n",
       "      <td>0</td>\n",
       "      <td>0</td>\n",
       "      <td>0</td>\n",
       "      <td>0</td>\n",
       "      <td>0</td>\n",
       "      <td>0</td>\n",
       "      <td>0</td>\n",
       "      <td>0</td>\n",
       "      <td>0</td>\n",
       "      <td>0</td>\n",
       "      <td>0</td>\n",
       "      <td>0</td>\n",
       "    </tr>\n",
       "  </tbody>\n",
       "</table>\n",
       "</div>"
      ],
      "text/plain": [
       "                                           wine_link              name  \\\n",
       "0  https://www.vivino.com/US/en/luigi-bosca-parai...           Paraiso   \n",
       "1  https://www.vivino.com/US/en/catena-zapata-est...  Estiba Reservada   \n",
       "2  https://www.vivino.com/US/en/catena-zapata-est...  Estiba Reservada   \n",
       "\n",
       "     year         winery  rating  rating_qty   price    body  tannis  \\\n",
       "0  2020.0    Luigi Bosca     4.8       582.0  188.33  0.7343  0.5090   \n",
       "1  2015.0  Catena Zapata     4.7       297.0  675.00  0.7417  0.5583   \n",
       "2  2017.0  Catena Zapata     4.7       219.0  580.00  0.7417  0.5583   \n",
       "\n",
       "   sweetness  acidity                                    style  alcohol  \\\n",
       "0     0.1361   0.4474  Argentinian Cabernet Sauvignon - Malbec   0.1410   \n",
       "1     0.1434   0.5445               Argentinian Bordeaux Blend   0.1400   \n",
       "2     0.1434   0.5445               Argentinian Bordeaux Blend   0.1416   \n",
       "\n",
       "                                               image  ageing  black fruit  \\\n",
       "0  https://images.vivino.com/thumbs/_Bf6JTwYRpSX6...  0.0000       0.3500   \n",
       "1  https://images.vivino.com/thumbs/Yt464jw0QS-ug...  0.0241       0.2008   \n",
       "2  https://images.vivino.com/thumbs/Yt464jw0QS-ug...  0.0241       0.2008   \n",
       "\n",
       "   citrus  dried fruit  earthy  floral    oaky  red fruit  spices  tree fruit  \\\n",
       "0   0.000        0.000  0.1250  0.0500  0.3250     0.0500  0.1000         0.0   \n",
       "1   0.008        0.012  0.0964  0.0241  0.4378     0.0843  0.1004         0.0   \n",
       "2   0.008        0.012  0.0964  0.0241  0.4378     0.0843  0.1004         0.0   \n",
       "\n",
       "   tropical  vegetal  yeasty  any junk food will do  aperitif  \\\n",
       "0       0.0    0.000   0.000                    0.0       0.0   \n",
       "1       0.0    0.004   0.008                    0.0       0.0   \n",
       "2       0.0    0.004   0.008                    0.0       0.0   \n",
       "\n",
       "   appetizers and snacks  beef  blue cheese  cured meat  game (deer, venison)  \\\n",
       "0                    0.0   1.0          0.0         0.0                   1.0   \n",
       "1                    0.0   1.0          0.0         0.0                   0.0   \n",
       "2                    0.0   1.0          0.0         0.0                   0.0   \n",
       "\n",
       "   goat's milk cheese  lamb  lean fish  mature and hard cheese  \\\n",
       "0                 0.0   1.0        0.0                     0.0   \n",
       "1                 0.0   1.0        0.0                     0.0   \n",
       "2                 0.0   1.0        0.0                     0.0   \n",
       "\n",
       "   mild and soft cheese  mushrooms  pasta  pork  poultry  \\\n",
       "0                   0.0        0.0    0.0   0.0      1.0   \n",
       "1                   0.0        0.0    1.0   0.0      1.0   \n",
       "2                   0.0        0.0    1.0   0.0      1.0   \n",
       "\n",
       "   rich fish (salmon, tuna etc)  shellfish  spicy food  veal  vegetarian  \\\n",
       "0                           0.0        0.0         0.0   0.0         0.0   \n",
       "1                           0.0        0.0         0.0   0.0         0.0   \n",
       "2                           0.0        0.0         0.0   0.0         0.0   \n",
       "\n",
       "   Albariño  Barbera  Bonarda  Béquignol Noir  Cabernet Franc  \\\n",
       "0       0.0      0.0      0.0             0.0             0.0   \n",
       "1       0.0      0.0      0.0             0.0             0.0   \n",
       "2       0.0      0.0      0.0             0.0             0.0   \n",
       "\n",
       "   Cabernet Sauvignon  Cereza  Chardonnay  Chenin Blanc  Criolla Grande  \\\n",
       "0                 1.0     0.0         0.0           0.0             0.0   \n",
       "1                 1.0     0.0         0.0           0.0             0.0   \n",
       "2                 1.0     0.0         0.0           0.0             0.0   \n",
       "\n",
       "   Garnacha  Gewürztraminer  Grenache  Grüner Veltliner  Malbec  Malvasia  \\\n",
       "0       0.0             0.0       0.0               0.0     1.0       0.0   \n",
       "1       0.0             0.0       0.0               0.0     1.0       0.0   \n",
       "2       0.0             0.0       0.0               0.0     1.0       0.0   \n",
       "\n",
       "   Marsanne  Mencia  Merlot  Moscatel  Mourvedre  Pais  Pedro Ximenez  \\\n",
       "0       0.0     0.0     0.0       0.0        0.0   0.0            0.0   \n",
       "1       0.0     0.0     1.0       0.0        0.0   0.0            0.0   \n",
       "2       0.0     0.0     1.0       0.0        0.0   0.0            0.0   \n",
       "\n",
       "   Petit Verdot  Pinot Gris  Pinot Noir  Riesling  Roussanne  Sangiovese  \\\n",
       "0           0.0         0.0         0.0       0.0        0.0         0.0   \n",
       "1           0.0         0.0         0.0       0.0        0.0         0.0   \n",
       "2           0.0         0.0         0.0       0.0        0.0         0.0   \n",
       "\n",
       "   Sauvignon Blanc  Shiraz/Syrah  Sémillon  Tannat  Tempranillo  Torrontés  \\\n",
       "0              0.0           0.0       0.0     0.0          0.0        0.0   \n",
       "1              0.0           0.0       0.0     0.0          0.0        0.0   \n",
       "2              0.0           0.0       0.0     0.0          0.0        0.0   \n",
       "\n",
       "   Trousseau  Verdejo  Viognier  Agrelo  Argentina  Brazil  Cafayate Valley  \\\n",
       "0        0.0      0.0       0.0       0          1       0                0   \n",
       "1        0.0      0.0       0.0       1          1       0                0   \n",
       "2        0.0      0.0       0.0       1          1       0                0   \n",
       "\n",
       "   Calchaqui Valley  Campanha  Famatina  Gualtallary  La Consulta  La Rioja  \\\n",
       "0                 0         0         0            0            0         0   \n",
       "1                 0         0         0            0            0         0   \n",
       "2                 0         0         0            0            0         0   \n",
       "\n",
       "   Las Compuertas  Lujan de Cuyo  Lunlunta  Maipu  Mendoza  Paraje Altamira  \\\n",
       "0               0              0         0      0        1                0   \n",
       "1               0              0         0      0        1                0   \n",
       "2               0              0         0      0        1                0   \n",
       "\n",
       "   Patagonia  Pedernal Valley  Perdriel  Rio Grande do Sul  Rio Negro  Salta  \\\n",
       "0          0                0         0                  0          0      0   \n",
       "1          0                0         0                  0          0      0   \n",
       "2          0                0         0                  0          0      0   \n",
       "\n",
       "   San Carlos  San Juan  San Rafael  Serra Gaúcha  Tulum Valley  Tunuyán  \\\n",
       "0           0         0           0             0             0        0   \n",
       "1           0         0           0             0             0        0   \n",
       "2           0         0           0             0             0        0   \n",
       "\n",
       "   Tupungato  Uco Valley  Vale dos Vinhedos  Vista Flores  \n",
       "0          0           0                  0             0  \n",
       "1          0           0                  0             0  \n",
       "2          0           0                  0             0  "
      ]
     },
     "execution_count": 3,
     "metadata": {},
     "output_type": "execute_result"
    }
   ],
   "source": [
    "wines = pd.read_csv(\"../../src/data/transformed/wines_clean.csv\")\n",
    "pd.set_option('display.max_columns', None)\n",
    "wines.head(3)"
   ]
  },
  {
   "cell_type": "code",
   "execution_count": 4,
   "id": "6a274674",
   "metadata": {},
   "outputs": [],
   "source": [
    "# Maricel, esto es lo que te decía de la selección de variables para después aplicar en el modelo\n",
    "# Está bueno para leer (fijate si lo podés traducir)\n",
    "# Feature Selection: https://scikit-learn.org/stable/modules/feature_selection.html"
   ]
  },
  {
   "cell_type": "markdown",
   "id": "f70eff29",
   "metadata": {},
   "source": [
    "## 01 | Clusters"
   ]
  },
  {
   "cell_type": "markdown",
   "id": "6fbd11da",
   "metadata": {},
   "source": [
    "### Perfil de Sabor"
   ]
  },
  {
   "cell_type": "markdown",
   "id": "0d80adaf",
   "metadata": {},
   "source": [
    "**Distintos Tipos de Clustering**\n",
    "\n",
    "- Objetivo: buscar diferentes metodologías (Clases y Funciones) para clusterizar."
   ]
  },
  {
   "cell_type": "markdown",
   "id": "ba17ab71",
   "metadata": {},
   "source": [
    "**Formas de Ver la Mejor Cantidad de Clusters**\n",
    "\n",
    "-  Objetivo: buscar diferentes metodologías para encontrar la cantidad de clusters óptima (el K que genera clusters más homogéneos)."
   ]
  },
  {
   "cell_type": "markdown",
   "id": "60a4da06",
   "metadata": {},
   "source": [
    "**Interpretabilidad de los Clusters**\n",
    "\n",
    "- Objetivo: darle interpretabilidad a los clusters revisando Mínimos, Máximos, Medias, Medianas, Etc de las diferentes variables que componen el cluster para así poder interpretarlo facilmente."
   ]
  },
  {
   "cell_type": "markdown",
   "id": "f71b0ce8",
   "metadata": {},
   "source": [
    "**Cruce con Variables**\n",
    "\n",
    "- Objetivo: relacionar los clusters con variables Rating, Price, Precio-Calidad para notar mejores y peores clusters de vinos de acuerdo a estas variables."
   ]
  },
  {
   "cell_type": "markdown",
   "id": "631661dd",
   "metadata": {},
   "source": [
    "### Notas"
   ]
  },
  {
   "cell_type": "code",
   "execution_count": 43,
   "id": "4f69b82b",
   "metadata": {},
   "outputs": [
    {
     "data": {
      "image/png": "[encoded data removed]",
      "text/plain": [
       "<Figure size 900x600 with 1 Axes>"
      ]
     },
     "metadata": {},
     "output_type": "display_data"
    }
   ],
   "source": [
    "# https://scikit-learn.org/stable/modules/generated/sklearn.cluster.KMeans.html#sklearn.cluster.KMeans\n",
    "# https://pandas.pydata.org/docs/reference/api/pandas.melt.html\n",
    "from sklearn.cluster import KMeans\n",
    "\n",
    "notes = pd.read_csv(\"../../src/data/processed/aux/notes.csv\")\n",
    "notes = notes[\"notes\"]\n",
    "notes = wines[notes].copy()\n",
    "notes_array = np.array(notes)\n",
    "kmeans_notes = KMeans(n_clusters=4, random_state=0, n_init=\"auto\", max_iter=300).fit(notes_array)\n",
    "notes[\"note_cluster\"] = kmeans_notes.labels_\n",
    "cluster_centers_df = pd.DataFrame(kmeans_notes.cluster_centers_, columns=notes.columns[:-1])\n",
    "cluster_centers_df = pd.melt(cluster_centers_df, var_name=\"notes\", value_name=\"value\", ignore_index=False)\n",
    "#cluster_centers_df = cluster_centers_df.reset_index(drop=False)\n",
    "\n",
    "plt.title(\"Valor de Cluster por Notas\")\n",
    "sns.barplot(data=cluster_centers_df, x=\"notes\", y=\"value\", hue=cluster_centers_df.index, palette=\"viridis\")\n",
    "plt.xticks(rotation=45)\n",
    "plt.xlabel(\"Notas\")\n",
    "plt.ylabel(\"Valor\")\n",
    "plt.show()\n"
   ]
  },
  {
   "cell_type": "code",
   "execution_count": 38,
   "id": "65a72272",
   "metadata": {},
   "outputs": [
    {
     "data": {
      "image/png": "[encoded data removed]",
      "text/plain": [
       "<Figure size 900x600 with 1 Axes>"
      ]
     },
     "metadata": {},
     "output_type": "display_data"
    }
   ],
   "source": [
    "# https://scikit-learn.org/stable/modules/generated/sklearn.decomposition.PCA.html\n",
    "# https://matplotlib.org/stable/api/_as_gen/matplotlib.pyplot.scatter.html\n",
    "\n",
    "from sklearn.decomposition import PCA\n",
    "\n",
    "pca = PCA(n_components=2)\n",
    "notes_pca = pca.fit_transform(notes_array)\n",
    "centers = pca.transform(kmeans_notes.cluster_centers_)\n",
    "\n",
    "#fig = plt.figure(figsize=(12,9))\n",
    "#ax = fig.add_subplot(111, projection=\"3d\")\n",
    "\n",
    "plt.title(\"Visualización de Clusters de Notas (PCA)\")\n",
    "#ax.scatter(xs=notes_pca[:, 1], ys=notes_pca[:, 0], zs=notes_pca[:, 2], c=kmeans_notes.labels_)\n",
    "plt.scatter(x=notes_pca[:,0], y=notes_pca[:,1], c=kmeans_notes.labels_)\n",
    "plt.scatter(centers[:,0], centers[:,1], c=\"red\", s=100, marker=\"x\", label=\"Centroides\")\n",
    "plt.legend()\n",
    "plt.xlabel(\"Componente Principal 1 (Notes)\")\n",
    "plt.ylabel(\"Componente Principal 2 (Notes)\")\n",
    "plt.show()"
   ]
  },
  {
   "cell_type": "markdown",
   "id": "73f2e29c",
   "metadata": {},
   "source": [
    "**Distintos Tipos de Clustering**\n",
    "\n",
    "- Objetivo: buscar diferentes metodologías (Clases y Funciones) para clusterizar."
   ]
  },
  {
   "cell_type": "markdown",
   "id": "50bbc5fa",
   "metadata": {},
   "source": [
    "**Formas de Ver la Mejor Cantidad de Clusters**\n",
    "\n",
    "-  Objetivo: buscar diferentes metodologías para encontrar la cantidad de clusters óptima (el K que genera clusters más homogéneos)."
   ]
  },
  {
   "cell_type": "markdown",
   "id": "e869db31",
   "metadata": {},
   "source": [
    "**Interpretabilidad de los Clusters**\n",
    "\n",
    "- Objetivo: darle interpretabilidad a los clusters revisando Mínimos, Máximos, Medias, Medianas, Etc de las diferentes variables que componen el cluster para así poder interpretarlo facilmente."
   ]
  },
  {
   "cell_type": "markdown",
   "id": "9d17171a",
   "metadata": {},
   "source": [
    "**Cruce con Variables**\n",
    "\n",
    "- Objetivo: relacionar los clusters con variables Rating, Price, Precio-Calidad para notar mejores y peores clusters de vinos de acuerdo a estas variables."
   ]
  },
  {
   "cell_type": "markdown",
   "id": "40cde985",
   "metadata": {},
   "source": [
    "### Maridajes"
   ]
  },
  {
   "cell_type": "markdown",
   "id": "173387b4",
   "metadata": {},
   "source": [
    "**Distintos Tipos de Clustering**\n",
    "\n",
    "- Objetivo: buscar diferentes metodologías (Clases y Funciones) para clusterizar."
   ]
  },
  {
   "cell_type": "markdown",
   "id": "630858bc",
   "metadata": {},
   "source": [
    "**Formas de Ver la Mejor Cantidad de Clusters**\n",
    "\n",
    "-  Objetivo: buscar diferentes metodologías para encontrar la cantidad de clusters óptima (el K que genera clusters más homogéneos)."
   ]
  },
  {
   "cell_type": "markdown",
   "id": "caff38ab",
   "metadata": {},
   "source": [
    "**Interpretabilidad de los Clusters**\n",
    "\n",
    "- Objetivo: darle interpretabilidad a los clusters revisando Mínimos, Máximos, Medias, Medianas, Etc de las diferentes variables que componen el cluster para así poder interpretarlo facilmente."
   ]
  },
  {
   "cell_type": "markdown",
   "id": "4c6ee06e",
   "metadata": {},
   "source": [
    "**Cruce con Variables**\n",
    "\n",
    "- Objetivo: relacionar los clusters con variables Rating, Price, Precio-Calidad para notar mejores y peores clusters de vinos de acuerdo a estas variables."
   ]
  },
  {
   "cell_type": "markdown",
   "id": "e226fc42",
   "metadata": {},
   "source": [
    "---"
   ]
  },
  {
   "cell_type": "markdown",
   "id": "f3eb6606",
   "metadata": {},
   "source": [
    "## 02 | Clusters + Reducción de Dimensionalidad (PCA)"
   ]
  },
  {
   "cell_type": "markdown",
   "id": "549c4aae",
   "metadata": {},
   "source": [
    "### Perfil de Sabor"
   ]
  },
  {
   "cell_type": "markdown",
   "id": "27c2138e",
   "metadata": {},
   "source": [
    "**Distintos Tipos de Clustering**\n",
    "\n",
    "- Objetivo: buscar diferentes metodologías (Clases y Funciones) para clusterizar."
   ]
  },
  {
   "cell_type": "markdown",
   "id": "2ed0fde1",
   "metadata": {},
   "source": [
    "**Formas de Ver la Mejor Cantidad de Clusters**\n",
    "\n",
    "-  Objetivo: buscar diferentes metodologías para encontrar la cantidad de clusters óptima (el K que genera clusters más homogéneos)."
   ]
  },
  {
   "cell_type": "markdown",
   "id": "643e3aaa",
   "metadata": {},
   "source": [
    "**Interpretabilidad de los Clusters**\n",
    "\n",
    "- Objetivo: darle interpretabilidad a los clusters revisando Mínimos, Máximos, Medias, Medianas, Etc de las diferentes variables que componen el cluster para así poder interpretarlo facilmente."
   ]
  },
  {
   "cell_type": "markdown",
   "id": "a5c8a35a",
   "metadata": {},
   "source": [
    "**Cruce con Variables**\n",
    "\n",
    "- Objetivo: relacionar los clusters con variables Rating, Price, Precio-Calidad para notar mejores y peores clusters de vinos de acuerdo a estas variables."
   ]
  },
  {
   "cell_type": "markdown",
   "id": "b7f616d7",
   "metadata": {},
   "source": [
    "### Notas"
   ]
  },
  {
   "cell_type": "markdown",
   "id": "a2fe642a",
   "metadata": {},
   "source": [
    "**Distintos Tipos de Clustering**\n",
    "\n",
    "- Objetivo: buscar diferentes metodologías (Clases y Funciones) para clusterizar."
   ]
  },
  {
   "cell_type": "markdown",
   "id": "dc186814",
   "metadata": {},
   "source": [
    "**Formas de Ver la Mejor Cantidad de Clusters**\n",
    "\n",
    "-  Objetivo: buscar diferentes metodologías para encontrar la cantidad de clusters óptima (el K que genera clusters más homogéneos)."
   ]
  },
  {
   "cell_type": "markdown",
   "id": "5da0b649",
   "metadata": {},
   "source": [
    "**Interpretabilidad de los Clusters**\n",
    "\n",
    "- Objetivo: darle interpretabilidad a los clusters revisando Mínimos, Máximos, Medias, Medianas, Etc de las diferentes variables que componen el cluster para así poder interpretarlo facilmente."
   ]
  },
  {
   "cell_type": "markdown",
   "id": "bc9eb18e",
   "metadata": {},
   "source": [
    "**Cruce con Variables**\n",
    "\n",
    "- Objetivo: relacionar los clusters con variables Rating, Price, Precio-Calidad para notar mejores y peores clusters de vinos de acuerdo a estas variables."
   ]
  },
  {
   "cell_type": "markdown",
   "id": "f292632d",
   "metadata": {},
   "source": [
    "### Maridaje"
   ]
  },
  {
   "cell_type": "markdown",
   "id": "dc3baf30",
   "metadata": {},
   "source": [
    "**Distintos Tipos de Clustering**\n",
    "\n",
    "- Objetivo: buscar diferentes metodologías (Clases y Funciones) para clusterizar."
   ]
  },
  {
   "cell_type": "markdown",
   "id": "dc6b3146",
   "metadata": {},
   "source": [
    "**Formas de Ver la Mejor Cantidad de Clusters**\n",
    "\n",
    "-  Objetivo: buscar diferentes metodologías para encontrar la cantidad de clusters óptima (el K que genera clusters más homogéneos)."
   ]
  },
  {
   "cell_type": "markdown",
   "id": "37b57226",
   "metadata": {},
   "source": [
    "**Interpretabilidad de los Clusters**\n",
    "\n",
    "- Objetivo: darle interpretabilidad a los clusters revisando Mínimos, Máximos, Medias, Medianas, Etc de las diferentes variables que componen el cluster para así poder interpretarlo facilmente."
   ]
  },
  {
   "cell_type": "markdown",
   "id": "29312f0a",
   "metadata": {},
   "source": [
    "**Cruce con Variables**\n",
    "\n",
    "- Objetivo: relacionar los clusters con variables Rating, Price, Precio-Calidad para notar mejores y peores clusters de vinos de acuerdo a estas variables."
   ]
  },
  {
   "cell_type": "markdown",
   "id": "910059e5",
   "metadata": {},
   "source": [
    "---"
   ]
  },
  {
   "cell_type": "markdown",
   "id": "776b797e",
   "metadata": {},
   "source": [
    "## 03 | Cruce entre Clusters\n",
    "\n",
    "- Objetivo: ver si existen relaciones entre ciertos clusters y otros que describan los mejores y peores vinos."
   ]
  },
  {
   "cell_type": "markdown",
   "id": "a7ed527f",
   "metadata": {},
   "source": [
    "### Sin Reducción de Dimensionalidad (PCA)"
   ]
  },
  {
   "cell_type": "markdown",
   "id": "d9499ce3",
   "metadata": {},
   "source": [
    "**Cluster Perfil de Sabor vs Cluster Notas**"
   ]
  },
  {
   "cell_type": "markdown",
   "id": "3f70fc01",
   "metadata": {},
   "source": [
    "**Cluster Perfil de Sabor vs Cluster Maridaje**"
   ]
  },
  {
   "cell_type": "markdown",
   "id": "11d3eb7c",
   "metadata": {},
   "source": [
    "**Cluster Notas vs Cluster Maridaje**"
   ]
  },
  {
   "cell_type": "markdown",
   "id": "ca673150",
   "metadata": {},
   "source": [
    "### Con Reducción de Dimensionalidad (PCA)"
   ]
  },
  {
   "cell_type": "markdown",
   "id": "f5d38def",
   "metadata": {},
   "source": [
    "**Cluster Perfil de Sabor vs Cluster Notas**"
   ]
  },
  {
   "cell_type": "markdown",
   "id": "d8f5cbe4",
   "metadata": {},
   "source": [
    "**Cluster Perfil de Sabor vs Cluster Maridaje**"
   ]
  },
  {
   "cell_type": "markdown",
   "id": "fb861559",
   "metadata": {},
   "source": [
    "**Cluster Notas vs Cluster Maridaje**"
   ]
  },
  {
   "cell_type": "markdown",
   "id": "4a98fdd9",
   "metadata": {},
   "source": [
    "---"
   ]
  }
 ],
 "metadata": {
  "kernelspec": {
   "display_name": ".venv",
   "language": "python",
   "name": "python3"
  },
  "language_info": {
   "codemirror_mode": {
    "name": "ipython",
    "version": 3
   },
   "file_extension": ".py",
   "mimetype": "text/x-python",
   "name": "python",
   "nbconvert_exporter": "python",
   "pygments_lexer": "ipython3",
   "version": "3.12.3"
  }
 },
 "nbformat": 4,
 "nbformat_minor": 5
}
