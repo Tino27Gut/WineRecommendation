{
 "cells": [
  {
   "cell_type": "code",
   "execution_count": 2,
   "metadata": {},
   "outputs": [],
   "source": [
    "import sys\n",
    "import os\n",
    "\n",
    "import pandas as pd\n",
    "\n",
    "sys.path.append(os.path.abspath(os.path.join('..', '..', '..', 'src', 'utils')))\n",
    "import utils as ut\n"
   ]
  },
  {
   "cell_type": "code",
   "execution_count": 3,
   "metadata": {},
   "outputs": [],
   "source": [
    "route = \"../../../src/data/raw/scraped_wines/\" \n",
    "wines1 = pd.read_csv(route + \"wines1.csv\")\n",
    "wines2 = pd.read_csv(route + \"wines2.csv\")\n",
    "wines2_1 = pd.read_csv(route + \"wines2.1.csv\")\n",
    "wines3 = pd.read_csv(route + \"wines3.csv\")\n",
    "wines4 = pd.read_csv(route + \"wines4.csv\")\n",
    "all_wines = pd.concat([wines1, wines2, wines2_1, wines3, wines4])"
   ]
  },
  {
   "cell_type": "code",
   "execution_count": 6,
   "metadata": {},
   "outputs": [
    {
     "name": "stdout",
     "output_type": "stream",
     "text": [
      "Archivo guardado en: /home/martingut27/WineRecommendation/tests/fix_logs/scraping_fix/output.csv\n"
     ]
    }
   ],
   "source": [
    "wines_left = all_wines[all_wines[\"name\"].isna()]\n",
    "ut.save_csv(wines_left)\n"
   ]
  }
 ],
 "metadata": {
  "kernelspec": {
   "display_name": ".venv",
   "language": "python",
   "name": "python3"
  },
  "language_info": {
   "codemirror_mode": {
    "name": "ipython",
    "version": 3
   },
   "file_extension": ".py",
   "mimetype": "text/x-python",
   "name": "python",
   "nbconvert_exporter": "python",
   "pygments_lexer": "ipython3",
   "version": "3.12.3"
  }
 },
 "nbformat": 4,
 "nbformat_minor": 2
}
