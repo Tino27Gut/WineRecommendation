{
 "cells": [
  {
   "cell_type": "markdown",
   "id": "3a468d18",
   "metadata": {},
   "source": [
    "Me gustaría que el usuario me de:\n",
    "- Pairings: uno o más combinaciones de alimentos con los que quiere maridar el vino. (OK)\n",
    "- Body, tannis, sweetness, acidity: de 0 a 1 (OK)\n",
    "- Uvas: una selección de uvas que yo determine + otras (todas las que no estén incluidas dentro de las que le doy como opción individual). (WIP)\n",
    "- Price: el rango de precios en el cual buscar vinos. (WIP)"
   ]
  },
  {
   "cell_type": "code",
   "execution_count": 103,
   "id": "38058a87",
   "metadata": {},
   "outputs": [],
   "source": [
    "import random\n",
    "import pandas as pd\n",
    "import numpy as np"
   ]
  },
  {
   "cell_type": "code",
   "execution_count": 101,
   "id": "4b705032",
   "metadata": {},
   "outputs": [],
   "source": [
    "# randint: https://www.w3schools.com/python/ref_random_randint.asp\n",
    "# Pandas .quantile: https://pandas.pydata.org/docs/reference/api/pandas.DataFrame.quantile.html\n",
    "# np.random.normal: https://numpy.org/doc/2.1/reference/random/generated/numpy.random.normal.html\n",
    "# np.clip: https://numpy.org/doc/2.1/reference/generated/numpy.clip.html \n",
    "\n",
    "\n",
    "# Selección de pairing\n",
    "def select_random_meal(meal_df):\n",
    "    i = np.random.randint(0, len(meal_df))\n",
    "    return meal_df.loc[i]\n",
    "\n",
    "# Elección de categoría según un valor dado\n",
    "def get_category(value, quantiles=[.25, .5, .75], categories=[\"leve\", \"moderado\", \"marcado\", \"intenso\"]):\n",
    "    if len(quantiles) + 1 != len(categories):\n",
    "        raise IndexError(\"Length of quantiles and categories does not match!\")\n",
    "    \n",
    "    for i, q in enumerate(quantiles):\n",
    "        if value <= q:\n",
    "            return categories[i]\n",
    "        \n",
    "    return categories[-1]\n",
    "\n",
    "# Creación de perfiles de sabor por pairing (para elecciones que hagan sentido con la elección del user)\n",
    "def build_pairing_profile(df, pairing_cols, quantiles=[.25, .5, .75]):\n",
    "    profiles = {}\n",
    "    deviations = {}\n",
    "    for pairing in pairing_cols:\n",
    "        pairing_subset = df[df[pairing] == 1]\n",
    "        profiles[pairing] = {}\n",
    "        deviations[pairing] = {}\n",
    "        for taste in [\"body\", \"tannis\", \"sweetness\", \"acidity\"]:\n",
    "            # Cuantiles\n",
    "            cuartiles = pairing_subset[taste].quantile(quantiles)\n",
    "            profiles[pairing][taste] = cuartiles\n",
    "            # Desvío Estandar (para distribución normal en select_taste_profile)\n",
    "            std = pairing_subset[taste].std()\n",
    "            deviations[pairing][taste] = std\n",
    "\n",
    "    return profiles, deviations\n",
    "\n",
    "# Selección del perfil de vino con algo de sentido común (en general)\n",
    "def select_taste_profile(pairing, profiles, deviations, prob=.1, categories=[\"leve\", \"moderado\", \"marcado\", \"intenso\"]):\n",
    "    selected_profile = {}\n",
    "    for taste in [\"body\", \"tannis\", \"sweetness\", \"acidity\"]:\n",
    "        if random.random() < prob:\n",
    "            selected_profile[taste] = str(np.random.choice(categories))\n",
    "        else:\n",
    "            median = profiles[pairing][taste][.5]\n",
    "            std = deviations[pairing][taste]\n",
    "            valor_seleccionado = np.random.normal(loc=median, scale=std)\n",
    "            selected_profile[taste] = get_category(valor_seleccionado, categories=categories)\n",
    "    return selected_profile\n"
   ]
  },
  {
   "cell_type": "code",
   "execution_count": null,
   "id": "6dbbb253",
   "metadata": {},
   "outputs": [
    {
     "data": {
      "text/plain": [
       "{'body': 'marcado',\n",
       " 'tannis': 'marcado',\n",
       " 'sweetness': 'moderado',\n",
       " 'acidity': 'marcado'}"
      ]
     },
     "execution_count": 102,
     "metadata": {},
     "output_type": "execute_result"
    }
   ],
   "source": [
    "wines_df = pd.read_csv(\"../../src/data/transformed/wines_clean.csv\")\n",
    "pairings = pd.read_csv(\"../../src/data/processed/aux/pairings.csv\")\n",
    "pairings = list(pairings[\"pairings\"])\n",
    "meals_df = pd.read_excel(\"../../src/data/raw/meals/Meals.xlsx\")\n",
    "scaler = MinMaxScaler()\n",
    "\n",
    "taste_columns = [\"body\", \"tannis\", \"sweetness\", \"acidity\"]\n",
    "\n",
    "wines_copy = wines_df.copy()\n",
    "wines_copy[taste_columns] = scaler.fit_transform(wines_df[taste_columns])\n",
    "\n",
    "\n",
    "# Creación de perfiles de sabor por pairing y obtención de sus desvíos para selección según distribución normal\n",
    "profiles, deviations = build_pairing_profile(df=wines_copy, pairing_cols=pairings, quantiles=[.25, .5, .75])\n",
    "\n",
    "# Elección aleatoria de una meal y obtención de su pairing principal\n",
    "selected_meal = select_random_meal(meals_df)\n",
    "main_pairing = selected_meal[\"Ingrediente Principal\"].lower()\n",
    "\n",
    "# Elección del perfil del vino, teniendo en cuenta algo de sentido común de los usuarios\n",
    "selected_profile = select_taste_profile(pairing=main_pairing, profiles=profiles, deviations=deviations, prob=.1)\n",
    "\n"
   ]
  }
 ],
 "metadata": {
  "kernelspec": {
   "display_name": ".venv",
   "language": "python",
   "name": "python3"
  },
  "language_info": {
   "codemirror_mode": {
    "name": "ipython",
    "version": 3
   },
   "file_extension": ".py",
   "mimetype": "text/x-python",
   "name": "python",
   "nbconvert_exporter": "python",
   "pygments_lexer": "ipython3",
   "version": "3.12.3"
  }
 },
 "nbformat": 4,
 "nbformat_minor": 5
}
