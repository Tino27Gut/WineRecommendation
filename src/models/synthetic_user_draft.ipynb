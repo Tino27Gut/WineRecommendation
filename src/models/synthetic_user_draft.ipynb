{
 "cells": [
  {
   "cell_type": "markdown",
   "id": "3a468d18",
   "metadata": {},
   "source": [
    "Me gustaría que el usuario me de:\n",
    "- Pairings: uno o más combinaciones de alimentos con los que quiere maridar el vino.\n",
    "- Body, tannis, sweetness, acidity: de 0 a 1\n",
    "- Uvas: una selección de uvas que yo determine + otras (todas las que no estén incluidas dentro de las que le doy como opción individual).\n",
    "- Price: el rango de precios en el cual buscar vinos."
   ]
  },
  {
   "cell_type": "code",
   "execution_count": null,
   "id": "38058a87",
   "metadata": {},
   "outputs": [],
   "source": [
    "import random\n",
    "import pandas as pd\n",
    "import numpy as np\n",
    "pd.set_option('display.max_rows', 10)\n",
    "meals_df = pd.read_excel(\"../../src/data/raw/meals/Meals.xlsx\")\n",
    "meals_df"
   ]
  },
  {
   "cell_type": "code",
   "execution_count": 25,
   "id": "8f064f3c",
   "metadata": {},
   "outputs": [],
   "source": [
    "# randint: https://www.w3schools.com/python/ref_random_randint.asp\n",
    "\n",
    "# Selección de pairing\n",
    "def select_random_meal(meal_df):\n",
    "    i = np.random.randint(0, len(meal_df))\n",
    "    return meal_df.loc[i]"
   ]
  },
  {
   "cell_type": "code",
   "execution_count": 42,
   "id": "720957a8",
   "metadata": {},
   "outputs": [
    {
     "data": {
      "text/plain": [
       "Comida                         Matambre a la Pizza\n",
       "Ingrediente Principal                         Pork\n",
       "aperitif                                         0\n",
       "appetizers and snacks                            0\n",
       "beef                                             0\n",
       "                                      ...         \n",
       "rich fish (salmon tuna etc)                      0\n",
       "shellfish                                        0\n",
       "spicy food                                       0\n",
       "veal                                             0\n",
       "vegetarian                                       0\n",
       "Name: 30, Length: 22, dtype: object"
      ]
     },
     "execution_count": 42,
     "metadata": {},
     "output_type": "execute_result"
    }
   ],
   "source": [
    "select_random_meal(meals_df)"
   ]
  },
  {
   "cell_type": "code",
   "execution_count": null,
   "id": "da2df58d",
   "metadata": {},
   "outputs": [
    {
     "data": {
      "text/plain": [
       "Comida                         Pollo al Horno con Papas\n",
       "Ingrediente Principal                           Poultry\n",
       "aperitif                                              0\n",
       "appetizers and snacks                                 0\n",
       "beef                                                  0\n",
       "                                         ...           \n",
       "rich fish (salmon tuna etc)                           0\n",
       "shellfish                                             0\n",
       "spicy food                                            0\n",
       "veal                                                  0\n",
       "vegetarian                                            0\n",
       "Name: 36, Length: 22, dtype: object"
      ]
     },
     "execution_count": 24,
     "metadata": {},
     "output_type": "execute_result"
    }
   ],
   "source": [
    "# acá se me ocurre que el usuario elegiría en categorías discretas\n",
    "# bajo, medio, medio-alto, alto y que eso se corresponda con los vinos\n",
    "# Si pero debería elegir algo que haga relativamente sentido con su pairing...\n",
    "\n",
    "def select_taste_profile():\n",
    "    return {\n",
    "        \"body\": np.random.randint(0,3),\n",
    "        \"tannis\": random.randint(0,3),\n",
    "        \"sweetness\": random.randint(0,3),\n",
    "        \"acidity\": random.randint(0,3)\n",
    "    }"
   ]
  }
 ],
 "metadata": {
  "kernelspec": {
   "display_name": ".venv",
   "language": "python",
   "name": "python3"
  },
  "language_info": {
   "codemirror_mode": {
    "name": "ipython",
    "version": 3
   },
   "file_extension": ".py",
   "mimetype": "text/x-python",
   "name": "python",
   "nbconvert_exporter": "python",
   "pygments_lexer": "ipython3",
   "version": "3.12.3"
  }
 },
 "nbformat": 4,
 "nbformat_minor": 5
}
